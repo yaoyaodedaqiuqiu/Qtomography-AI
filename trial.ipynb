{
 "cells": [
  {
   "cell_type": "markdown",
   "metadata": {},
   "source": [
    "## Its a trial to demonstrate the Quantum Tomography\n",
    "Preparing Environment\n"
   ]
  },
  {
   "cell_type": "code",
   "execution_count": 2,
   "metadata": {},
   "outputs": [],
   "source": [
    "from qiskit import QuantumCircuit, transpile\n",
    "from qiskit_aer import AerSimulator  # 使用新的模拟器类\n",
    "from qiskit.visualization import plot_histogram, plot_state_city\n",
    "import qiskit.quantum_info as qi\n",
    "from scipy.linalg import expm\n",
    "from scipy.sparse.linalg import eigsh\n",
    "import numpy as np"
   ]
  },
  {
   "cell_type": "markdown",
   "metadata": {},
   "source": [
    "1"
   ]
  },
  {
   "cell_type": "markdown",
   "metadata": {},
   "source": [
    "* quantum state"
   ]
  },
  {
   "cell_type": "code",
   "execution_count": 3,
   "metadata": {},
   "outputs": [
    {
     "data": {
      "text/html": [
       "<pre style=\"word-wrap: normal;white-space: pre;background: #fff0;line-height: 1.1;font-family: &quot;Courier New&quot;,Courier,monospace\">        ┌───┐   ┌─────────┐            ░ ┌─┐      \n",
       "   q_0: ┤ H ├─■─┤ Rx(0.5) ├────────────░─┤M├──────\n",
       "        ├───┤ │ └─────────┘┌─────────┐ ░ └╥┘┌─┐   \n",
       "   q_1: ┤ H ├─■──────■─────┤ Rx(0.5) ├─░──╫─┤M├───\n",
       "        ├───┤        │     ├─────────┤ ░  ║ └╥┘┌─┐\n",
       "   q_2: ┤ H ├────────■─────┤ Rx(0.5) ├─░──╫──╫─┤M├\n",
       "        └───┘              └─────────┘ ░  ║  ║ └╥┘\n",
       "meas: 3/══════════════════════════════════╩══╩══╩═\n",
       "                                          0  1  2 </pre>"
      ],
      "text/plain": [
       "        ┌───┐   ┌─────────┐            ░ ┌─┐      \n",
       "   q_0: ┤ H ├─■─┤ Rx(0.5) ├────────────░─┤M├──────\n",
       "        ├───┤ │ └─────────┘┌─────────┐ ░ └╥┘┌─┐   \n",
       "   q_1: ┤ H ├─■──────■─────┤ Rx(0.5) ├─░──╫─┤M├───\n",
       "        ├───┤        │     ├─────────┤ ░  ║ └╥┘┌─┐\n",
       "   q_2: ┤ H ├────────■─────┤ Rx(0.5) ├─░──╫──╫─┤M├\n",
       "        └───┘              └─────────┘ ░  ║  ║ └╥┘\n",
       "meas: 3/══════════════════════════════════╩══╩══╩═\n",
       "                                          0  1  2 "
      ]
     },
     "execution_count": 3,
     "metadata": {},
     "output_type": "execute_result"
    }
   ],
   "source": [
    "# 定义量子电路\n",
    "n = 3  # 量子位数\n",
    "circuit = QuantumCircuit(n)\n",
    "\n",
    "# 应用初始态（例如全为0态）\n",
    "\n",
    "# 模拟Ising模型的相互作用\n",
    "# 模拟Ising模型的相互作用\n",
    "J = 1  # 相互作用强度\n",
    "h = 0.5  # 外部场强度\n",
    "\n",
    "# 使用ZZ门来模拟量子比特之间的相互作用\n",
    "circuit.h(0)  # 创建叠加态\n",
    "circuit.h(1)\n",
    "circuit.h(2)\n",
    "circuit.cz(0, 1)  # ZZ 相互作用\n",
    "circuit.cz(1, 2)  # ZZ 相互作用\n",
    "\n",
    "# 应用RX门模拟外部磁场\n",
    "circuit.rx(h, 0)  # 对量子位0应用RX门，模拟外部磁场\n",
    "circuit.rx(h, 1)  # 对量子位1应用RX门，模拟外部磁场\n",
    "circuit.rx(h, 2)  # 对量子位2应用RX门，模拟外部磁场\n",
    "\n",
    "# 测量\n",
    "circuit.measure_all()\n",
    "\n",
    "# 显示电路\n",
    "circuit.draw()\n",
    "\n",
    "# 显示电路\n",
    "circuit.draw()"
   ]
  },
  {
   "cell_type": "code",
   "execution_count": 4,
   "metadata": {},
   "outputs": [
    {
     "data": {
      "image/png": "[encoded data removed]",
      "text/plain": [
       "<Figure size 640x480 with 1 Axes>"
      ]
     },
     "execution_count": 4,
     "metadata": {},
     "output_type": "execute_result"
    }
   ],
   "source": [
    "simulator = AerSimulator()\n",
    "result = simulator.run(circuit).result()\n",
    "# 获取并显示结果\n",
    "counts = result.get_counts(circuit)\n",
    "plot_histogram(counts, title='3-qubit-Ising-State counts')\n",
    "\n",
    "\n"
   ]
  },
  {
   "cell_type": "code",
   "execution_count": 5,
   "metadata": {},
   "outputs": [
    {
     "name": "stdout",
     "output_type": "stream",
     "text": [
      "[[7.02586736e-01 1.40517347e-01 1.40517347e-01 ... 1.79862204e-06\n",
      "  1.79862204e-06 3.59724408e-07]\n",
      " [1.40517347e-01 2.81034694e-02 2.81034694e-02 ... 3.59724409e-07\n",
      "  3.59724409e-07 7.19448817e-08]\n",
      " [1.40517347e-01 2.81034694e-02 2.81034694e-02 ... 3.59724409e-07\n",
      "  3.59724409e-07 7.19448817e-08]\n",
      " ...\n",
      " [1.79862204e-06 3.59724409e-07 3.59724409e-07 ... 4.60447243e-12\n",
      "  4.60447243e-12 9.20894486e-13]\n",
      " [1.79862204e-06 3.59724409e-07 3.59724409e-07 ... 4.60447243e-12\n",
      "  4.60447243e-12 9.20894486e-13]\n",
      " [3.59724408e-07 7.19448817e-08 7.19448817e-08 ... 9.20894486e-13\n",
      "  9.20894486e-13 1.84178897e-13]]\n"
     ]
    }
   ],
   "source": [
    "# 定义 Ising 哈密顿量的函数\n",
    "def ising_hamiltonian(num_qubits, J, hx, hz):\n",
    "    H = np.zeros((2**num_qubits, 2**num_qubits))\n",
    "    # 构建 Pauli-Z 和 Pauli-X 作用的项\n",
    "    for i in range(num_qubits):\n",
    "        H -= J * np.kron(np.eye(2**(i)), np.kron(np.array([[1, 0], [0, -1]]), np.eye(2**(num_qubits-i-1))))\n",
    "        H -= hx * np.kron(np.eye(2**i), np.kron(np.array([[0, 1], [1, 0]]), np.eye(2**(num_qubits-i-1))))\n",
    "        H -= hz * np.kron(np.eye(2**i), np.kron(np.array([[1, 0], [0, -1]]), np.eye(2**(num_qubits-i-1))))\n",
    "    return H\n",
    "\n",
    "# 模拟量子态的计算\n",
    "def compute_quantum_state(num_qubits, J, hx, hz):\n",
    "    H = ising_hamiltonian(num_qubits, J, hx, hz)\n",
    "    # 对角化哈密顿量，得到基态\n",
    "    eigenvalues, eigenvectors = eigsh(H, k=1, which='SA')\n",
    "    ground_state = eigenvectors[:, 0]\n",
    "    return ground_state\n",
    "\n",
    "# 计算测量概率分布\n",
    "def compute_measurement_probabilities(state, num_measure_qubits):\n",
    "    probabilities = []\n",
    "    for i in range(2**num_measure_qubits):\n",
    "        prob = np.abs(state[i])**2\n",
    "        probabilities.append(prob)\n",
    "    return probabilities\n",
    "\n",
    "# 生成模拟数据\n",
    "num_qubits = 9\n",
    "num_measure_qubits = 3\n",
    "J = 1.0\n",
    "hx = 0.5\n",
    "hz = 0.2\n",
    "\n",
    "state = compute_quantum_state(num_qubits, J, hx, hz)\n",
    "probs = compute_measurement_probabilities(state, num_measure_qubits)\n",
    "density_matrix = np.outer(state, np.conj(state))  # 计算 |psi⟩⟨psi|\n",
    "# 保存为 .npy 文件\n",
    "print(density_matrix)\n",
    "np.save('quantum_state_probs.npy', probs)"
   ]
  },
  {
   "cell_type": "markdown",
   "metadata": {},
   "source": [
    "## 混态哈密顿量构建\n",
    "直接生成，无任何物理约束"
   ]
  },
  {
   "cell_type": "code",
   "execution_count": 6,
   "metadata": {},
   "outputs": [
    {
     "name": "stdout",
     "output_type": "stream",
     "text": [
      "Random Density Matrix:\n",
      " [[0.00188676-1.50970749e-21j 0.00139519+1.67504939e-05j\n",
      "  0.00144329-3.91568160e-05j ... 0.0014636 -4.04613002e-05j\n",
      "  0.0014117 +2.75375669e-07j 0.00140296-1.78588062e-05j]\n",
      " [0.00139519-1.67504939e-05j 0.00192876+1.56667937e-21j\n",
      "  0.00145295-6.60171006e-05j ... 0.00143993-3.43285894e-05j\n",
      "  0.00146653+4.59107970e-06j 0.0014183 -2.33053777e-05j]\n",
      " [0.00144329+3.91568160e-05j 0.00145295+6.60171006e-05j\n",
      "  0.00195179-2.96212526e-21j ... 0.00148588+1.34788269e-05j\n",
      "  0.00149689+5.77334921e-05j 0.00143796+2.61412761e-05j]\n",
      " ...\n",
      " [0.0014636 +4.04613002e-05j 0.00143993+3.43285894e-05j\n",
      "  0.00148588-1.34788269e-05j ... 0.0019504 -4.58354620e-23j\n",
      "  0.00145704+6.11222499e-05j 0.00141523+1.37286033e-05j]\n",
      " [0.0014117 -2.75375669e-07j 0.00146653-4.59107970e-06j\n",
      "  0.00149689-5.77334921e-05j ... 0.00145704-6.11222499e-05j\n",
      "  0.00197729-4.64673045e-23j 0.00142534-3.92900066e-05j]\n",
      " [0.00140296+1.78588062e-05j 0.0014183 +2.33053777e-05j\n",
      "  0.00143796-2.61412761e-05j ... 0.00141523-1.37286033e-05j\n",
      "  0.00142534+3.92900066e-05j 0.00187072-4.39628196e-23j]]\n"
     ]
    }
   ],
   "source": [
    "def random_density_matrix(dim):\n",
    "    random_matrix = np.random.rand(dim, dim) + 1j * np.random.rand(dim, dim)\n",
    "    rho = random_matrix @ random_matrix.conj().T  # 确保正定\n",
    "    rho /= np.trace(rho)  # 归一化\n",
    "    return rho\n",
    "\n",
    "dim = 2**num_qubits\n",
    "rho_random = random_density_matrix(dim)\n",
    "print(\"Random Density Matrix:\\n\", rho_random)"
   ]
  },
  {
   "cell_type": "markdown",
   "metadata": {},
   "source": [
    "图网络实验"
   ]
  },
  {
   "cell_type": "code",
   "execution_count": 7,
   "metadata": {},
   "outputs": [],
   "source": [
    "import torch\n",
    "import torch.nn.functional as F\n",
    "from torch_geometric.nn import GCNConv\n",
    "from torch_geometric.data import Data\n"
   ]
  },
  {
   "cell_type": "code",
   "execution_count": 8,
   "metadata": {},
   "outputs": [
    {
     "name": "stdout",
     "output_type": "stream",
     "text": [
      "Epoch 10, Loss: 0.6871\n",
      "Epoch 20, Loss: 0.6870\n",
      "Epoch 30, Loss: 0.6870\n",
      "Epoch 40, Loss: 0.6870\n",
      "Epoch 50, Loss: 0.6870\n",
      "Accuracy: 0.5556\n"
     ]
    }
   ],
   "source": [
    "# 1. 构造 9 节点完全图\n",
    "num_nodes = 9\n",
    "\n",
    "# 构造完全图的边索引（edge_index）\n",
    "edge_index = torch.combinations(torch.arange(num_nodes), r=2).T  # 所有节点两两组合\n",
    "edge_index = torch.cat([edge_index, edge_index.flip(0)], dim=1)  # 无向图，添加反向边\n",
    "\n",
    "# 节点特征：每个节点用一个简单的 2 维向量表示\n",
    "x = torch.rand((num_nodes, 2))  # 随机初始化节点特征\n",
    "\n",
    "# 节点标签：用于分类（假设 2 类，标签为 0 或 1）\n",
    "y = torch.randint(0, 2, (num_nodes,))\n",
    "\n",
    "# 构造图数据\n",
    "data = Data(x=x, edge_index=edge_index, y=y)\n",
    "\n",
    "# 2. 定义简单的 GNN 模型\n",
    "class SimpleGNN(torch.nn.Module):\n",
    "    def __init__(self):\n",
    "        super(SimpleGNN, self).__init__()\n",
    "        self.conv1 = GCNConv(in_channels=2, out_channels=4)\n",
    "        self.conv2 = GCNConv(in_channels=4, out_channels=2)\n",
    "\n",
    "    def forward(self, data):\n",
    "        x, edge_index = data.x, data.edge_index\n",
    "        x = self.conv1(x, edge_index)\n",
    "        x = F.relu(x)\n",
    "        x = self.conv2(x, edge_index)\n",
    "        return F.log_softmax(x, dim=1)\n",
    "\n",
    "# 3. 模型训练\n",
    "device = torch.device('cuda' if torch.cuda.is_available() else 'cpu')\n",
    "model = SimpleGNN().to(device)\n",
    "data = data.to(device)\n",
    "optimizer = torch.optim.Adam(model.parameters(), lr=0.01)\n",
    "\n",
    "for epoch in range(50):\n",
    "    model.train()\n",
    "    optimizer.zero_grad()\n",
    "    out = model(data)  # 前向传播\n",
    "    loss = F.nll_loss(out, data.y)  # 交叉熵损失\n",
    "    loss.backward()  # 反向传播\n",
    "    optimizer.step()  # 更新参数\n",
    "\n",
    "    if (epoch + 1) % 10 == 0:\n",
    "        print(f'Epoch {epoch + 1}, Loss: {loss.item():.4f}')\n",
    "\n",
    "# 4. 测试模型\n",
    "model.eval()\n",
    "_, pred = model(data).max(dim=1)  # 获取预测类别\n",
    "accuracy = (pred == data.y).sum().item() / data.y.size(0)\n",
    "print(f'Accuracy: {accuracy:.4f}')"
   ]
  },
  {
   "cell_type": "code",
   "execution_count": 9,
   "metadata": {},
   "outputs": [
    {
     "name": "stdout",
     "output_type": "stream",
     "text": [
      "Graph Data:\n",
      "Data(x=[9, 3], edge_index=[2, 36], edge_attr=[36])\n",
      "Epoch 10, Loss: 0.7441\n",
      "Epoch 20, Loss: 0.7092\n",
      "Epoch 30, Loss: 0.6992\n",
      "Epoch 40, Loss: 0.6765\n",
      "Epoch 50, Loss: 0.6467\n"
     ]
    }
   ],
   "source": [
    "import numpy as np\n",
    "import torch\n",
    "from torch_geometric.data import Data\n",
    "\n",
    "# 定义 Ising 哈密顿量的函数\n",
    "def ising_hamiltonian(num_qubits, J, hx, hz):\n",
    "    H = np.zeros((2**num_qubits, 2**num_qubits))\n",
    "    for i in range(num_qubits):\n",
    "        H -= J * np.kron(np.eye(2**(i)), np.kron(np.array([[1, 0], [0, -1]]), np.eye(2**(num_qubits-i-1))))\n",
    "        H -= hx * np.kron(np.eye(2**i), np.kron(np.array([[0, 1], [1, 0]]), np.eye(2**(num_qubits-i-1))))\n",
    "        H -= hz * np.kron(np.eye(2**i), np.kron(np.array([[1, 0], [0, -1]]), np.eye(2**(num_qubits-i-1))))\n",
    "    return H\n",
    "\n",
    "def compute_quantum_state(num_qubits, J, hx, hz):\n",
    "    from scipy.sparse.linalg import eigsh\n",
    "    H = ising_hamiltonian(num_qubits, J, hx, hz)\n",
    "    eigenvalues, eigenvectors = eigsh(H, k=1, which='SA')\n",
    "    ground_state = eigenvectors[:, 0]\n",
    "    return ground_state\n",
    "\n",
    "def generate_graph_data(num_qubits, J, hx, hz):\n",
    "    state = compute_quantum_state(num_qubits, J, hx, hz)\n",
    "    density_matrix = np.outer(state, np.conj(state))  # |psi⟩⟨psi|\n",
    "    measurement_probs = np.abs(np.diag(density_matrix))  # 对角元素作为测量概率\n",
    "\n",
    "    # 构造图\n",
    "    edge_index = torch.combinations(torch.arange(num_qubits), r=2).T  # 全连接边\n",
    "    node_features = torch.tensor(\n",
    "        [[hx, hz, measurement_probs[i]] for i in range(num_qubits)],  # 修正括号匹配\n",
    "        dtype=torch.float\n",
    "    )  # 节点特征：hx, hz, 测量概率\n",
    "    edge_weights = torch.full((edge_index.size(1),), J, dtype=torch.float)  # 边特征：J\n",
    "\n",
    "    # 返回图数据\n",
    "    return Data(x=node_features, edge_index=edge_index, edge_attr=edge_weights)\n",
    "\n",
    "# 示例：生成 9 个量子比特的图数据\n",
    "num_qubits = 9\n",
    "J = 1.0\n",
    "hx = 0.5\n",
    "hz = 0.2\n",
    "graph_data = generate_graph_data(num_qubits, J, hx, hz)\n",
    "\n",
    "print(\"Graph Data:\")\n",
    "print(graph_data)\n",
    "\n",
    "import torch\n",
    "import torch.nn.functional as F\n",
    "from torch_geometric.nn import GCNConv\n",
    "\n",
    "# 定义 GNN 模型\n",
    "class QuantumGNN(torch.nn.Module):\n",
    "    def __init__(self):\n",
    "        super(QuantumGNN, self).__init__()\n",
    "        self.conv1 = GCNConv(in_channels=3, out_channels=6)  # 输入特征维度 3（hx, hz, prob）\n",
    "        self.conv2 = GCNConv(in_channels=6, out_channels=2)  # 输出类别 2（假设分类任务）\n",
    "\n",
    "    def forward(self, data):\n",
    "        x, edge_index, edge_attr = data.x, data.edge_index, data.edge_attr\n",
    "        x = self.conv1(x, edge_index, edge_weight=edge_attr)\n",
    "        x = F.relu(x)\n",
    "        x = self.conv2(x, edge_index, edge_weight=edge_attr)\n",
    "        return F.log_softmax(x, dim=1)\n",
    "\n",
    "# 训练示例\n",
    "device = torch.device('cuda' if torch.cuda.is_available() else 'cpu')\n",
    "model = QuantumGNN().to(device)\n",
    "data = graph_data.to(device)\n",
    "optimizer = torch.optim.Adam(model.parameters(), lr=0.01)\n",
    "\n",
    "for epoch in range(50):\n",
    "    model.train()\n",
    "    optimizer.zero_grad()\n",
    "    out = model(data)  # 前向传播\n",
    "    # 假设标签随机生成（根据实际任务定义标签）\n",
    "    y = torch.randint(0, 2, (num_qubits,), device=device)\n",
    "    loss = F.nll_loss(out, y)  # 交叉熵损失\n",
    "    loss.backward()\n",
    "    optimizer.step()\n",
    "\n",
    "    if (epoch + 1) % 10 == 0:\n",
    "        print(f'Epoch {epoch + 1}, Loss: {loss.item():.4f}')\n"
   ]
  },
  {
   "cell_type": "code",
   "execution_count": 10,
   "metadata": {},
   "outputs": [],
   "source": [
    "# 对于 Ising 模型计算能量\n",
    "def compute_energy(state, J, hx, hz):\n",
    "    energy = 0\n",
    "    for i in range(len(state)):\n",
    "        for j in range(i+1, len(state)):\n",
    "            energy += -J * state[i] * state[j]  # 自旋耦合项\n",
    "        energy += -hx * state[i]  # Pauli-X项\n",
    "        energy += -hz * state[i]  # Pauli-Z项\n",
    "    return energy\n"
   ]
  }
 ],
 "metadata": {
  "kernelspec": {
   "display_name": "qiskit-env",
   "language": "python",
   "name": "python3"
  },
  "language_info": {
   "codemirror_mode": {
    "name": "ipython",
    "version": 3
   },
   "file_extension": ".py",
   "mimetype": "text/x-python",
   "name": "python",
   "nbconvert_exporter": "python",
   "pygments_lexer": "ipython3",
   "version": "3.9.20"
  }
 },
 "nbformat": 4,
 "nbformat_minor": 2
}
